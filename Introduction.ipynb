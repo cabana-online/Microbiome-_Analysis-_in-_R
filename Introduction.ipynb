{
 "cells": [
  {
   "cell_type": "markdown",
   "metadata": {},
   "source": [
    "# Introduction to Google Colaboratory\n",
    "\n",
    "Welcome to the course! Here are some very important instructions to follow if you want to save a copy of this module to your Google Drive account:\n",
    "\n",
    "1. Click on \"File\" in the top-left corner and select \"Save a copy in Drive\".\n",
    "\n",
    "2. Click on the notebook's name in the top-left corner and rename it to whatever you prefer.\n",
    "\n",
    "Your changes will not be saved unless you complete this step."
   ]
  },
  {
   "cell_type": "markdown",
   "metadata": {},
   "source": [
    "## Getting Started\n",
    "\n",
    "Google Colab uses Python 3 by default. Since this tutorial is in R, we need to change the runtime type to R. To do this:\n",
    "\n",
    "1. Click on the **\"Connect\"** tab in the top-right corner, as shown below.\n",
    "\n",
    "2. A dialog box will appear. Select **\"Change runtime type\"**.\n",
    "\n",
    "3. Another dialog box will open. In the **\"Runtime type\"** option, you will see Python 3 selected. Click on the dropdown triangle and select **R**.\n",
    "\n",
    "4. Click **\"Save\"**.\n",
    "\n",
    "Now your Google Colab environment is configured to use R.\n",
    "\n",
    "> **Remember:** If you don’t make this change, you won’t be able to execute the steps in the tutorial.\n"
   ]
  },
  {
   "cell_type": "markdown",
   "metadata": {},
   "source": [
    "Please write: `print(\"Yes, I have completed step 1\")` in the code block below, then execute it by clicking the \"triangle\"/\"Play\" icon on that block."
   ]
  },
  {
   "cell_type": "code",
   "execution_count": null,
   "metadata": {},
   "outputs": [],
   "source": [
    "# Block"
   ]
  },
  {
   "cell_type": "markdown",
   "metadata": {},
   "source": [
    "You will get the following result:\n",
    "\n",
    "![print](./Images/print3.png)"
   ]
  },
  {
   "cell_type": "markdown",
   "metadata": {},
   "source": [
    "Please write: `print(\"Yes, I have completed step 2\")` in the code block below, then execute it by clicking the \"triangle\"/\"Play\" icon on that block."
   ]
  },
  {
   "cell_type": "code",
   "execution_count": null,
   "metadata": {},
   "outputs": [],
   "source": [
    "# Block"
   ]
  },
  {
   "cell_type": "markdown",
   "metadata": {},
   "source": [
    "You will get the following result:\n",
    "\n",
    "![print2](./Images/print4.png)"
   ]
  },
  {
   "cell_type": "markdown",
   "metadata": {},
   "source": [
    "## Setup\n",
    "\n",
    "In order to quickly install different R dependencies in Colab, we will use [r2u: CRAN as Ubuntu Binaries](https://github.com/eddelbuettel/r2u). This package configures the environment to install R packages using the Ubuntu package management system.\n",
    "\n",
    "> **Remember**: This is only necessary in Google Colab. DO NOT use in R or RStudio."
   ]
  },
  {
   "cell_type": "code",
   "execution_count": null,
   "metadata": {},
   "outputs": [],
   "source": [
    "# Download r2u file\n",
    "download.file(\"https://github.com/eddelbuettel/r2u/raw/master/inst/scripts/add_cranapt_jammy.sh\",\n",
    "              \"add_cranapt_jammy.sh\")\n",
    "Sys.chmod(\"add_cranapt_jammy.sh\", \"0755\")\n",
    "system(\"./add_cranapt_jammy.sh\")\n",
    "bspm::enable()\n",
    "options(bspm.version.check=FALSE)\n",
    "system(\"rm add_cranapt_jammy.sh\")"
   ]
  },
  {
   "cell_type": "markdown",
   "metadata": {},
   "source": [
    "The function in R called `shell_call` is used to execute operating system commands (e.g., shell or terminal commands) from R and display their output in a more readable format."
   ]
  },
  {
   "cell_type": "code",
   "execution_count": null,
   "metadata": {},
   "outputs": [],
   "source": [
    "# shell_call function\n",
    "shell_call <- function(command, ...) {\n",
    "  result <- system(command, intern = TRUE, ...)\n",
    "  cat(paste0(result, collapse = \"\\n\"))\n",
    "}"
   ]
  },
  {
   "cell_type": "markdown",
   "metadata": {},
   "source": [
    "## Do I have storage space forever?\n",
    "\n",
    "No, the space is available for 12 hours a day.\n",
    "\n",
    "The notebook will be saved automatically if you have completed the first two steps. You can then repeat all the work by clicking on the cells or running everything.\n",
    "\n",
    "The data can be downloaded to your local computer!\n",
    "\n",
    "You can also link your Google Drive account to move files there."
   ]
  },
  {
   "cell_type": "markdown",
   "metadata": {},
   "source": [
    "### You can now start the tutorial!"
   ]
  }
 ],
 "metadata": {
  "language_info": {
   "name": "python"
  }
 },
 "nbformat": 4,
 "nbformat_minor": 2
}
