{
 "cells": [
  {
   "cell_type": "markdown",
   "metadata": {},
   "source": [
    "# Microbiome Analysis in R\n",
    "\n",
    "This tutorial provides a comprehensive overview of the main functions of the [microeco](https://github.com/ChiLiubio/microeco) library. This R package is designed to assist users in analyzing microbiome data using a wide range of methodologies that enhance the analytical experience.\n",
    "\n",
    "Throughout the tutorial, you will learn how to load data into R, manipulate and normalize it, calculate relative abundances, perform descriptive analyses based on those abundances, carry out diversity analyses (alpha and beta indices), and represent the results graphically."
   ]
  },
  {
   "cell_type": "markdown",
   "metadata": {},
   "source": [
    "### Setup"
   ]
  },
  {
   "cell_type": "code",
   "execution_count": null,
   "metadata": {},
   "outputs": [],
   "source": [
    "# Download the r2u File\n",
    "download.file(\"https://github.com/eddelbuettel/r2u/raw/master/inst/scripts/add_cranapt_jammy.sh\",\n",
    "              \"add_cranapt_jammy.sh\")\n",
    "Sys.chmod(\"add_cranapt_jammy.sh\", \"0755\")\n",
    "system(\"./add_cranapt_jammy.sh\")\n",
    "bspm::enable()\n",
    "options(bspm.version.check=FALSE)\n",
    "system(\"rm add_cranapt_jammy.sh\")"
   ]
  },
  {
   "cell_type": "code",
   "execution_count": null,
   "metadata": {},
   "outputs": [],
   "source": [
    "# Shell_call function\n",
    "shell_call <- function(command, ...) {\n",
    "  result <- system(command, intern = TRUE, ...)\n",
    "  cat(paste0(result, collapse = \"\\n\"))\n",
    "}"
   ]
  },
  {
   "cell_type": "markdown",
   "metadata": {},
   "source": [
    "> **Note**: This setup is only necessary for Google Colab. DO NOT use it in R or RStudio."
   ]
  },
  {
   "cell_type": "markdown",
   "metadata": {},
   "source": [
    "## 1. Package Installation\n",
    "\n",
    "Before proceeding with the installation, it is important to note that, like many other R libraries, **microeco** is a package composed of various dependencies. These dependencies are other R libraries that must be installed beforehand to use **microeco** properly.\n",
    "\n",
    "The command `install.packages(\"BiocManager\")` in R is used to install the [BiocManager](https://www.bioconductor.org/install/) package from CRAN. This package is an essential tool for working with packages from the [Bioconductor](https://www.bioconductor.org/) project, which provides bioinformatics tools for the analysis and interpretation of biological data. Bioconductor is a specialized repository offering bioinformatics and statistical tools designed for the analysis of genomic, transcriptomic, proteomic data, and more."
   ]
  },
  {
   "cell_type": "code",
   "execution_count": null,
   "metadata": {},
   "outputs": [],
   "source": [
    "# Installing BiocManager\n",
    "\n",
    "install.packages(\"BiocManager\")"
   ]
  },
  {
   "cell_type": "code",
   "execution_count": null,
   "metadata": {},
   "outputs": [],
   "source": [
    "# Installing Packages with BiocManager\n",
    "\n",
    "BiocManager::install(\"ggtree\")\n",
    "BiocManager::install(\"metagenomeSeq\")\n",
    "BiocManager::install(\"ALDEx2\")\n",
    "BiocManager::install(\"ANCOMBC\")\n",
    "install.packages(\"file2meco\", repos = BiocManager::repositories())\n",
    "install.packages(\"MicrobiomeStat\", repos = BiocManager::repositories())\n",
    "install.packages(\"WGCNA\", repos = BiocManager::repositories())\n",
    "install.packages(\"remotes\")\n",
    "install.packages(\"devtools\")\n",
    "install.packages(\"picante\")\n",
    "install.packages(\"ggpubr\")"
   ]
  },
  {
   "cell_type": "code",
   "execution_count": null,
   "metadata": {},
   "outputs": [],
   "source": [
    "# Installing Packages\n",
    "\n",
    "install.packages(\"file2meco\", repos = BiocManager::repositories())\n",
    "install.packages(\"MicrobiomeStat\", repos = BiocManager::repositories())\n",
    "install.packages(\"WGCNA\", repos = BiocManager::repositories())\n",
    "install.packages(\"remotes\")\n",
    "install.packages(\"devtools\")\n",
    "remotes::install_github(\"jbisanz/qiime2R\")"
   ]
  },
  {
   "cell_type": "markdown",
   "metadata": {},
   "source": [
    "> **Note:** It is common for R libraries to undergo constant updates, so there may be changes that are not reflected in this guide. It is recommended to visit the following page in case of any issues: [https://chiliubio.github.io/microeco_tutorial/](https://chiliubio.github.io/microeco_tutorial/) as well as [https://github.com/ChiLiubio/microeco](https://github.com/ChiLiubio/microeco) for the library installation.\n",
    "\n",
    "Finally, proceed with the installation of the *microeco* package."
   ]
  },
  {
   "cell_type": "code",
   "execution_count": null,
   "metadata": {},
   "outputs": [],
   "source": [
    "# Installing microeco Packages Directly from a GitHub Repository\n",
    "\n",
    "devtools::install_github(\"ChiLiubio/microeco\")"
   ]
  },
  {
   "cell_type": "markdown",
   "metadata": {},
   "source": [
    "Once the packages or libraries are downloaded, we will load them using the `library()` function."
   ]
  },
  {
   "cell_type": "code",
   "execution_count": null,
   "metadata": {},
   "outputs": [],
   "source": [
    "# Load Libraries\n",
    "\n",
    "library(microeco)\n",
    "library(qiime2R)\n",
    "library(ggplot2)\n",
    "library(magrittr)\n",
    "library(RColorBrewer)\n",
    "library(ggalluvial)\n",
    "library(picante)\n",
    "library(ggpubr)"
   ]
  },
  {
   "cell_type": "markdown",
   "metadata": {},
   "source": [
    "## 2. Download Data"
   ]
  },
  {
   "cell_type": "markdown",
   "metadata": {},
   "source": [
    "The data used in this tutorial is available in a repository on Zenodo: [https://zenodo.org/records/13972776](https://zenodo.org/records/13972776).\n",
    "\n",
    "To download the data, we will use the R function `download.file()`:"
   ]
  },
  {
   "cell_type": "code",
   "execution_count": null,
   "metadata": {},
   "outputs": [],
   "source": [
    "urls <- c(\n",
    "  \"https://zenodo.org/records/13972776/files/classification.qza\",\n",
    "  \"https://zenodo.org/records/13972776/files/sample-metadata.tsv\",\n",
    "  \"https://zenodo.org/records/13972776/files/table.qza\",\n",
    "  \"https://zenodo.org/records/13972776/files/rooted_tree.qza\"\n",
    ")\n",
    "\n",
    "# Name files\n",
    "destfiles <- c(\"classification.qza\", \"sample-metadata.tsv\", \"table.qza\", \"rooted_tree.qza\")\n",
    "\n",
    "# Download files\n",
    "for (i in seq_along(urls)) {\n",
    "  download.file(url = urls[i], destfile = destfiles[i], mode = \"wb\")\n",
    "  cat(sprintf(\"File %s downloaded.\\n\", destfiles[i]))\n",
    "}"
   ]
  },
  {
   "cell_type": "markdown",
   "metadata": {},
   "source": [
    "You will obtain the following result:\n",
    "\n",
    "![descarga](./Images/download.png)"
   ]
  },
  {
   "cell_type": "markdown",
   "metadata": {},
   "source": [
    "## 3. Load Data"
   ]
  },
  {
   "cell_type": "markdown",
   "metadata": {},
   "source": [
    "To load the data, we will use an R library designed for working with files produced by the [QIIME2](https://qiime2.org/) program. This library is called **qiime2R**, which has already been downloaded and loaded in the previous steps.\n",
    "\n",
    "Next, use the `setwd()` function to set the working directory to the location where the data files are stored. These files are available in the tutorial folder."
   ]
  },
  {
   "cell_type": "code",
   "execution_count": null,
   "metadata": {},
   "outputs": [],
   "source": [
    "# Select the Directory\n",
    "\n",
    "setwd(\"/content\")"
   ]
  },
  {
   "cell_type": "code",
   "execution_count": null,
   "metadata": {},
   "outputs": [],
   "source": [
    "# Load Data\n",
    "\n",
    "datos= qza_to_phyloseq(features = \"table.qza\",\n",
    "  taxonomy =   \"classification.qza\",\n",
    "  tree = \"rooted_tree.qza\",\n",
    "  metadata = \"sample-metadata.tsv\")"
   ]
  },
  {
   "cell_type": "markdown",
   "metadata": {},
   "source": [
    "We extract each of the data files to implement them in the functions of *microeco*."
   ]
  },
  {
   "cell_type": "code",
   "execution_count": null,
   "metadata": {},
   "outputs": [],
   "source": [
    "otu_table = as.data.frame(datos@otu_table)\n",
    "metadatos = data.frame(datos@sam_data)\n",
    "arbol = datos@phy_tree\n",
    "taxonomia = data.frame(datos@tax_table)"
   ]
  },
  {
   "cell_type": "markdown",
   "metadata": {},
   "source": [
    "Using the `microtable$new` function, a new dataset can be generated with the loaded files. The main difference is that this object is compatible with the other functions of the library."
   ]
  },
  {
   "cell_type": "code",
   "execution_count": null,
   "metadata": {},
   "outputs": [],
   "source": [
    "# Data File for microtable (microeco)\n",
    "dataset <-\n",
    "  microtable$new(\n",
    "    otu_table = otu_table,\n",
    "    sample_table = metadatos,\n",
    "    phylo_tree = arbol,\n",
    "    tax_table = taxonomia"
   ]
  },
  {
   "cell_type": "markdown",
   "metadata": {},
   "source": [
    "## 4. Rarefaction\n",
    "\n",
    "A common term in microbiome data analysis is *rarefaction*. This refers to a random sampling process applied to the units contained in the OTUs (Operational Taxonomic Units), where a value must be defined for sampling and standardizing the units. Usually, the selected value is that of the sample with the smallest number of sequences. To verify the range of sequences in the OTUs, the first line of code is used, which indicates that the sample with the fewest sequences contains 1067 sequences. For this reason, rarefaction is performed by fixing this value and using the `rarefy_samples` function. As it is a random sampling process, a seed must be set to replicate the results."
   ]
  },
  {
   "cell_type": "code",
   "execution_count": null,
   "metadata": {},
   "outputs": [],
   "source": [
    "# Set a Seed to Replicate the Results\n",
    "\n",
    "set.seed(1)"
   ]
  },
  {
   "cell_type": "code",
   "execution_count": null,
   "metadata": {},
   "outputs": [],
   "source": [
    "# Verification of OTU Value Range\n",
    "\n",
    "dataset$sample_sums() %>% range"
   ]
  },
  {
   "cell_type": "code",
   "execution_count": null,
   "metadata": {},
   "outputs": [],
   "source": [
    "# Rarefaction\n",
    "\n",
    "dataset$rarefy_samples(sample.size = 1067)"
   ]
  },
  {
   "cell_type": "markdown",
   "metadata": {},
   "source": [
    "> **Note:** The application of the rarefaction technique has been questioned over the years in microbiome studies. To gain a deeper understanding of this discussion, it is recommended to read the following article: [https://journals.plos.org/ploscompbiol/article?id=10.1371/journal.pcbi.1003531](https://journals.plos.org/ploscompbiol/article?id=10.1371/journal.pcbi.1003531)"
   ]
  },
  {
   "cell_type": "markdown",
   "metadata": {},
   "source": [
    "## 4. Calculation of Relative Abundance\n",
    "\n",
    "One of the most important aspects of microbiome analysis is identifying the main bacteria present in the study units. For this, relative abundance is used, which indicates the presence of each bacterium in each study unit on a scale from 0 to 1.\n",
    "\n",
    "The following function allows for the calculation of abundance at different levels of the phylogeny. This abundance can be accessed via `dataset$taxa_abund`. By adding another `$` after `taxa_abund`, you can access the abundance at various taxonomic levels, as shown in the second line of code."
   ]
  },
  {
   "cell_type": "code",
   "execution_count": null,
   "metadata": {},
   "outputs": [],
   "source": [
    "# Calculation of Abundance\n",
    "\n",
    "dataset$cal_abund()"
   ]
  },
  {
   "cell_type": "code",
   "execution_count": null,
   "metadata": {},
   "outputs": [],
   "source": [
    "# Accessing the Data\n",
    "# [1:2,1:2] is used to display the first two rows and columns (representing the first two samples and bacteria).\n",
    "\n",
    "dataset$taxa_abund$Family[1:2,1:2]"
   ]
  },
  {
   "cell_type": "markdown",
   "metadata": {},
   "source": [
    "## 5. Data Manipulation Functions\n",
    "\n",
    "### 5.1 Taxonomy Grouping\n",
    "\n",
    "In previous tutorials, OTUs could be grouped at various levels of the phylogeny, but this required using multiple libraries. The *microtable* library allows for grouping the OTUs using the `merge_taxa` function. This will adjust the information in the OTU table based on the desired taxonomic level (taxa). For example: Kingdom, Phylum, Class, Order, Family, or Genus."
   ]
  },
  {
   "cell_type": "code",
   "execution_count": null,
   "metadata": {},
   "outputs": [],
   "source": [
    "gen = dataset$merge_taxa(taxa = \"Genus\")\n",
    "gen"
   ]
  },
  {
   "cell_type": "markdown",
   "metadata": {},
   "source": [
    "Remember that the number of OTUs will be reduced when grouped, compared to those present in the original `dataset`."
   ]
  },
  {
   "cell_type": "markdown",
   "metadata": {},
   "source": [
    "### 5.2 Clonación y modificación de datos\n",
    "\n",
    "### 5.2 Cloning and Modifying Data\n",
    "\n",
    "Sometimes, transformations need to be made within a data file, such as when the `gen` object was created. However, it is always important to keep the original data file to maintain order when programming.\n",
    "\n",
    "For this, *microeco* implements the `clone` function. In the following example, the data set is first cloned, and then filtered by a column of metadata. In the second example, it is filtered by a specific bacterium in the taxonomy dataset.\n"
   ]
  },
  {
   "cell_type": "markdown",
   "metadata": {},
   "source": [
    "#### 5.2.1 Cloning and Subsetting by Developmental State"
   ]
  },
  {
   "cell_type": "code",
   "execution_count": null,
   "metadata": {},
   "outputs": [],
   "source": [
    "# Clone the Original Dataset\n",
    "\n",
    "tadpoles = clone(dataset)"
   ]
  },
  {
   "cell_type": "code",
   "execution_count": null,
   "metadata": {},
   "outputs": [],
   "source": [
    "# Select only the tadpoles from the metadata\n",
    "\n",
    "tadpoles$sample_table <- subset(tadpoles$sample_table, life_stage == \"tadpole\")"
   ]
  },
  {
   "cell_type": "code",
   "execution_count": null,
   "metadata": {},
   "outputs": [],
   "source": [
    "# Modify All Other Files to Contain Only Tadpole Information\n",
    "\n",
    "tadpoles$tidy_dataset()"
   ]
  },
  {
   "cell_type": "markdown",
   "metadata": {},
   "source": [
    "#### 5.2.2 Cloning and Subsetting by Bacteria from the Phylum Proteobacteria"
   ]
  },
  {
   "cell_type": "code",
   "execution_count": null,
   "metadata": {},
   "outputs": [],
   "source": [
    "# Clone the Original Dataset\n",
    "# You can also filter by bacteria\n",
    "\n",
    "proteo = clone(dataset)"
   ]
  },
  {
   "cell_type": "code",
   "execution_count": null,
   "metadata": {},
   "outputs": [],
   "source": [
    "# Filter by Proteobacteria\n",
    "\n",
    "proteo$tax_table <- subset(proteo$tax_table, Phylum == \"Proteobacteria\")"
   ]
  },
  {
   "cell_type": "code",
   "execution_count": null,
   "metadata": {},
   "outputs": [],
   "source": [
    "# Modify all other files to contain only information about Proteobacteria\n",
    "\n",
    "proteo$tidy_dataset()"
   ]
  },
  {
   "cell_type": "markdown",
   "metadata": {},
   "source": [
    "> **Important Note:** Keep in mind that when modifying the OTU table or the phylogenetic tree, diversity and abundance estimates must be recalculated. This is because the values used to estimate diversity in the dataset will no longer be the same once the OTUs or phylogeny are modified, as in the case of *Proteobacteria*. Therefore, you should use `proteo$cal_albund()` and other functions to re-estimate the diversity indices."
   ]
  },
  {
   "cell_type": "markdown",
   "metadata": {},
   "source": [
    "### 5.3 Filter by Relative Abundance\n",
    "\n",
    "It is common for sequencing data to contain many bacteria that are underrepresented in the study unit. When performing statistical analyses, it may be necessary to select those that have a higher relative abundance compared to other bacteria. To do this, the `$filter_taxa` function is used, where the desired relative abundance threshold should \n"
   ]
  },
  {
   "cell_type": "code",
   "execution_count": null,
   "metadata": {},
   "outputs": [],
   "source": [
    "# Clone the dataset\n",
    "\n",
    "dataset_filter <- clone(dataset)"
   ]
  },
  {
   "cell_type": "code",
   "execution_count": null,
   "metadata": {},
   "outputs": [],
   "source": [
    "# Adjust the relative abundance threshold\n",
    "\n",
    "dataset_filter$filter_taxa(rel_abund = 0.001)"
   ]
  },
  {
   "cell_type": "code",
   "execution_count": null,
   "metadata": {},
   "outputs": [],
   "source": [
    "# Adapt the other files to the change\n",
    "\n",
    "dataset_filter$tidy_dataset()"
   ]
  },
  {
   "cell_type": "markdown",
   "metadata": {},
   "source": [
    "## 6. Descriptive Analysis from Relative Abundance\n",
    "\n",
    "One of the most important aspects of data analysis is the use of graphs. Regardless of the field of study, in most cases where data is available, its presentation is usually done through bar graphs, scatter plots, and others. In this specific case, relative abundance graphs, boxplots, and heatmaps are the most common when representing bacterial composition. This section covers the creation of these graphs using *microeco*.\n"
   ]
  },
  {
   "cell_type": "markdown",
   "metadata": {},
   "source": [
    "### 6.1 Object for Creating Graphs\n",
    "\n",
    "A key step in creating graphs easily involves the creation of an object suitable for interpreting and adjusting the characteristics of the graphs. For this, the function `trans_abund$new` is used. This function, in addition to modifying the initial structure, requires two parameters. The first, called `taxrank`, is used to select the desired level in the taxonomy. Finally, the number of \"taxa\" `ntaxa` can be adjusted, which determines how many taxa will be displayed in the graphs in order of abundance."
   ]
  },
  {
   "cell_type": "code",
   "execution_count": null,
   "metadata": {},
   "outputs": [],
   "source": [
    "# Visualization at the Phylum Level\n",
    "\n",
    "t1 <- trans_abund$new(dataset = dataset, taxrank = \"Phylum\", ntaxa = 8)"
   ]
  },
  {
   "cell_type": "markdown",
   "metadata": {},
   "source": [
    "### 6.2 Relative Abundance Plot by Study Unit\n",
    "\n",
    "After creating the object `t1`, the function `plot_bar` should be used to plot the relative abundance of each subject. Other features of the function include adjusting parameters such as `facet` in order to group individuals by the desired column from the metadata, as well as the color in which bacteria categorized as \"other\" should be displayed, using the `others_color` parameter. Finally, other modifications can be made, such as adjusting the legend using `xtext_keep`, among other available formatting adjustments."
   ]
  },
  {
   "cell_type": "code",
   "execution_count": null,
   "metadata": {},
   "outputs": [],
   "source": [
    "t1$plot_bar( facet = \"life_stage\",others_color = \"grey\",xtext_keep = F,legend_text_italic = F)"
   ]
  },
  {
   "cell_type": "markdown",
   "metadata": {},
   "source": [
    "You will obtain the following result:\n",
    "\n",
    "![barplot](./Images/barplot.png)"
   ]
  },
  {
   "cell_type": "markdown",
   "metadata": {},
   "source": [
    "Just like the conventional bar graph, there are other ways to present the same information, where it is again observed that the tadpoles show a tendency towards a poorly defined composition at the phylum level, compared to juvenile and adult frogs."
   ]
  },
  {
   "cell_type": "code",
   "execution_count": null,
   "metadata": {},
   "outputs": [],
   "source": [
    "t1$plot_bar(bar_type = \"notfull\", use_alluvium = TRUE, xtext_angle = 30, xtext_size = 8, color_values = RColorBrewer::brewer.pal(8, \"Set2\"))"
   ]
  },
  {
   "cell_type": "markdown",
   "metadata": {},
   "source": [
    "You will obtain the following result:\n",
    "\n",
    "![barplot](./Images/alluvium.png)"
   ]
  },
  {
   "cell_type": "markdown",
   "metadata": {},
   "source": [
    "### 6.3 Relative Abundance Plot by Study Group\n",
    "\n",
    "Although presenting the information by individual is important, in certain cases it may be more practical to summarize it by the study group. To achieve this, a slight modification can be made to the original object `t1` using the `groupmean` parameter. This allows for obtaining the average per group based on one of the available columns in the metadata."
   ]
  },
  {
   "cell_type": "code",
   "execution_count": null,
   "metadata": {},
   "outputs": [],
   "source": [
    "t2 = trans_abund$new(dataset = dataset, taxrank = \"Phylum\", ntaxa = 10, groupmean = \"life_stage\")\n",
    "t2$plot_bar(others_color = \"grey70\", legend_text_italic = FALSE)"
   ]
  },
  {
   "cell_type": "markdown",
   "metadata": {},
   "source": [
    "You will obtain the following result:\n",
    "\n",
    "![barplot](./Images/phyllum.png)"
   ]
  },
  {
   "cell_type": "markdown",
   "metadata": {},
   "source": [
    "### 6.4 Abundance Boxplot\n",
    "\n",
    "For this example, instead of using the Phylum level to present relative abundance, the `tax_rank` parameter is modified to visualize at the Class level. Additionally, the 4 most abundant taxa are kept in the plot using `ntaxa`."
   ]
  },
  {
   "cell_type": "code",
   "execution_count": null,
   "metadata": {},
   "outputs": [],
   "source": [
    "# Visualization at the Class Level\n",
    "\n",
    "t2 = trans_abund$new(dataset = dataset, taxrank = \"Class\", ntaxa =4)\n",
    "t2$plot_box(group = \"life_stage\")"
   ]
  },
  {
   "cell_type": "markdown",
   "metadata": {},
   "source": [
    "You will obtain the following result:\n",
    "\n",
    "![barplot](./Images/boxplot.png)"
   ]
  },
  {
   "cell_type": "markdown",
   "metadata": {},
   "source": [
    "### 6.5 Heatmap\n",
    "\n",
    "Heatmaps are a useful way to visualize patterns in large amounts of data. In this case, the 40 most abundant taxa at the Order level are selected, and the information is displayed according to the 3 developmental stages of each frog."
   ]
  },
  {
   "cell_type": "code",
   "execution_count": null,
   "metadata": {},
   "outputs": [],
   "source": [
    "# Visualization at the Order Level\n",
    "\n",
    "t1 <- trans_abund$new(dataset = dataset, taxrank = \"Order\", ntaxa = 40)\n",
    "t1$plot_heatmap(facet = \"life_stage\", xtext_keep = FALSE, withmargin = FALSE)"
   ]
  },
  {
   "cell_type": "markdown",
   "metadata": {},
   "source": [
    "You will obtain the following result:\n",
    "\n",
    "![barplot](./Images/heatmap.png)"
   ]
  },
  {
   "cell_type": "markdown",
   "metadata": {},
   "source": [
    "As a conclusion from the previous graph, it can be inferred that, for example, Fusobacteriales had low abundances in adult and juvenile frogs; however, in tadpoles, this proportion was higher."
   ]
  },
  {
   "cell_type": "markdown",
   "metadata": {},
   "source": [
    "### 6.6 Pie Charts\n",
    "\n",
    "The final relative abundance visualization in this guide is implemented using donut charts, in this case at the Class level. The `add_level` parameter of the `plot_pie` function allows adding these percentages to the chart."
   ]
  },
  {
   "cell_type": "code",
   "execution_count": null,
   "metadata": {},
   "outputs": [],
   "source": [
    "# Visualization at the Class Level\n",
    "\n",
    "t1 <- trans_abund$new(dataset = dataset, taxrank = \"Class\", ntaxa = 5, groupmean = \"life_stage\")"
   ]
  },
  {
   "cell_type": "code",
   "execution_count": null,
   "metadata": {},
   "outputs": [],
   "source": [
    "t1$plot_pie(facet_nrow = 1, add_label = TRUE)"
   ]
  },
  {
   "cell_type": "markdown",
   "metadata": {},
   "source": [
    "You will obtain the following result:\n",
    "\n",
    "![barplot](./Images/piechart.png)"
   ]
  },
  {
   "cell_type": "markdown",
   "metadata": {},
   "source": [
    "## 7. Diversity Analysis\n",
    "\n",
    "In the context of bacterial composition analysis, various techniques have been developed to quantify and analyze the variability of bacterial species present in a specific study unit. These are known as diversity indices. The purpose of this quantification is to serve as a tool that allows researchers to draw conclusions from the data and formulate hypotheses about the potential factors that could influence bacterial composition.\n",
    "\n",
    "### 7.1 Alpha Diversity\n",
    "\n",
    "The simplest indices to analyze are the alpha diversity indices, as they consist of only 1 metric per study unit. There are multiple indices to represent this diversity, and the function `$cal_alphadiv` allows estimating each of these. We use PD = T within the function to include the Faith's Phylogenetic Diversity index."
   ]
  },
  {
   "cell_type": "code",
   "execution_count": null,
   "metadata": {},
   "outputs": [],
   "source": [
    "dataset$cal_alphadiv(PD = T)"
   ]
  },
  {
   "cell_type": "markdown",
   "metadata": {},
   "source": [
    "Access to the diversity indices is done through `dataset$alpha_diversity`. In the code, the `head()` function is used to display the indices for the first frogs in the dataset."
   ]
  },
  {
   "cell_type": "code",
   "execution_count": null,
   "metadata": {},
   "outputs": [],
   "source": [
    "head(dataset$alpha_diversity)"
   ]
  },
  {
   "cell_type": "markdown",
   "metadata": {},
   "source": [
    "You will obtain the following result:\n",
    "\n",
    "In the columns, you will observe the indices, and in the rows, the samples.\n",
    "\n",
    "![barplot](./Images/indices.png)\n"
   ]
  },
  {
   "cell_type": "markdown",
   "metadata": {},
   "source": [
    "\n",
    "#### 7.1.1 Alpha Diversity Analysis\n",
    "\n",
    "##### 7.1.1.1 Hypothesis Testing\n",
    "\n",
    "It is common in research contexts to study the presence of statistical differences between study groups, and various methods have been developed to compare data distributions and support or reject a proposed hypothesis. \n",
    "\n",
    "This document does not aim to go into detail on hypothesis testing, and it is recommended that the reader investigate its proper execution. On the other hand, to understand the alpha diversity analysis, the following example is presented: \n",
    "\n",
    "It is known that we can calculate the alpha diversity for each frog using metrics like the *Shannon* index. However, in order to test if there are statistically significant differences between the developmental stages, we must propose a **null hypothesis (H0)** and an **alternative hypothesis (H1)**.\n",
    "\n",
    "Where:\n",
    "\n",
    "- **H0:** There are no differences in the Shannon index across the developmental stages (adult, juvenile, and tadpole).\n",
    "\n",
    "- **H1:** There are differences in the Shannon index in at least one pair of stages (adult-juvenile-tadpole).\n",
    "\n",
    "To contrast this hypothesis test with 3 groups, the *Kruskal-Wallis* test should be used. If there are only 2 groups, a *Wilcoxon* test would be used. Depending on the case, **ANOVA** could also be considered."
   ]
  },
  {
   "cell_type": "code",
   "execution_count": null,
   "metadata": {},
   "outputs": [],
   "source": [
    "# Common Way to Test Hypothesis\n",
    "\n",
    "kruskal.test(dataset$alpha_diversity$Shannon,g = dataset$sample_table$life_stage)"
   ]
  },
  {
   "cell_type": "code",
   "execution_count": null,
   "metadata": {},
   "outputs": [],
   "source": [
    "# Quick Option with `trans_alpha` Setting Metadata Group\n",
    "\n",
    "t1 <- trans_alpha$new(dataset = dataset, group = \"life_stage\")\n",
    "t1$cal_diff()\n",
    "t1$res_diff\n",
    "\n",
    "# Note that for the Shannon index, the \"P.unadj\" is the same"
   ]
  },
  {
   "cell_type": "markdown",
   "metadata": {},
   "source": [
    "> **Note:** If differences exist, they would be observed when the P.adj is less than 0.05. However, it is concluded that there is not enough statistical evidence to reject the null hypothesis, which states that there are no differences in the Shannon index between the adult, juvenile, and tadpole states."
   ]
  },
  {
   "cell_type": "markdown",
   "metadata": {},
   "source": [
    "#### 7.1.1.2 Alpha diversity index plots\n",
    "\n",
    "In order to present the findings from the previous section, the library offers plots for the diversity index by study groups. To do this, we must have used the `cal_diff()` function on our dataset to incorporate the `plot_alpha` function. By adjusting the `measure` parameter, we can select the diversity index of interest, and the `shape` parameter adjusts the shape of the points for each group."
   ]
  },
  {
   "cell_type": "code",
   "execution_count": null,
   "metadata": {},
   "outputs": [],
   "source": [
    "# Shannon index plot by life stage\n",
    "\n",
    "t1$plot_alpha(measure = \"Shannon\", shape = \"life_stage\")"
   ]
  },
  {
   "cell_type": "markdown",
   "metadata": {},
   "source": [
    "You will obtain the following result:\n",
    "\n",
    "![barplot](./Images/alpha.png)"
   ]
  },
  {
   "cell_type": "markdown",
   "metadata": {},
   "source": [
    "> **Note:** To modify the \"ns\" appearing in the upper-left corner of the plot, please refer to the link provided at the beginning of the guide. Based on what was discussed in this section, you now have the tools needed to analyze alpha diversity using hypothesis tests and report differences using visualizations such as boxplots."
   ]
  },
  {
   "cell_type": "markdown",
   "metadata": {},
   "source": [
    "### 7.2 Beta Diversity\n",
    "\n",
    "The process of estimating beta diversity is very similar; in this case, the data file should be named, and then `$cal_betadiv` should be used."
   ]
  },
  {
   "cell_type": "code",
   "execution_count": null,
   "metadata": {},
   "outputs": [],
   "source": [
    "dataset$cal_betadiv()"
   ]
  },
  {
   "cell_type": "code",
   "execution_count": null,
   "metadata": {},
   "outputs": [],
   "source": [
    "head(data.frame(dataset$beta_diversity))[1:3,1:3]"
   ]
  },
  {
   "cell_type": "markdown",
   "metadata": {},
   "source": [
    "> **Note:** For the calculation of these indices, microeco benefits from other libraries like *vegan* or *physeq*. It is important that the user consults the guide, keeping in mind that the estimation of these metrics uses various formulas and mathematical processes, which may eventually need adjustments depending on the type and amount of data available. By default, the function uses the Bray and Jaccard methods as beta diversity metrics. Although this is not explicitly mentioned in the function, it is using the following parameter: `method = c(\"bray\", \"jaccard\")`. Consult the documentation of the `vegdist` function to see the available method options."
   ]
  },
  {
   "cell_type": "markdown",
   "metadata": {},
   "source": [
    "#### 7.2.1 Beta Diversity Analysis\n",
    "\n",
    "So far, we have calculated alpha and beta diversity indices. However, the measure to represent beta diversity is not a value that belongs to a single unit, as it was in the case of alpha diversity. In this case, the OTU matrix is used to calculate distances between each pair of study units, where the goal is to represent the variability or dissimilarity between each pair of samples in order to use machine learning tools that help generate visualizations or statistical tests like PERMANOVA (see https://uw.pressbooks.pub/appliedmultivariatestatistics/chapter/permanova/) to draw conclusions from the data.\n",
    "\n",
    "As in previous cases, an object must first be created to interpret beta diversity. For this, the function `trans_beta$new` is used. The group present in the metadata must be adjusted, as well as the `measure` parameter, which must match the method used in the `$cal_betadiv()` function (previously, Bray and Jaccard were used as methods).\n"
   ]
  },
  {
   "cell_type": "code",
   "execution_count": null,
   "metadata": {},
   "outputs": [],
   "source": [
    "# Diversity interpretation object, measure must be bray or jaccard\n",
    "\n",
    "t1 <- trans_beta$new(dataset = dataset, group = \"life_stage\", measure = \"bray\")"
   ]
  },
  {
   "cell_type": "markdown",
   "metadata": {},
   "source": [
    "##### 7.2.1.1 Graphical representation of beta diversity\n",
    "\n",
    "To graphically represent beta diversity, there are various methods such as PCoA, PCA, or non-metric multidimensional scaling (NMDS). The function `$cal_ordination` allows selecting the type of visualization based on the user's needs through the `ordination` parameter."
   ]
  },
  {
   "cell_type": "code",
   "execution_count": null,
   "metadata": {},
   "outputs": [],
   "source": [
    "# Set a seed so that the results match\n",
    "\n",
    "set.seed(1)"
   ]
  },
  {
   "cell_type": "code",
   "execution_count": null,
   "metadata": {},
   "outputs": [],
   "source": [
    "# Estimation of coordinates to represent beta diversity\n",
    "\n",
    "t1$cal_ordination(method = \"NMDS\")"
   ]
  },
  {
   "cell_type": "code",
   "execution_count": null,
   "metadata": {},
   "outputs": [],
   "source": [
    "# NMDS Plot\n",
    "\n",
    "t1$plot_ordination(plot_color = \"life_stage\",plot_shape = \"life_stage\", plot_type = c(\"point\", \"ellipse\"))"
   ]
  },
  {
   "cell_type": "markdown",
   "metadata": {},
   "source": [
    "You will obtain the following result:\n",
    "\n",
    "![barplot](./Images/beta.png)"
   ]
  },
  {
   "cell_type": "markdown",
   "metadata": {},
   "source": [
    "> **Note:** When using `cal_ordination`, the function may issue a warning indicating insufficient data, suggesting that the graphical representation may not be accurate. It is recommended to visit [this link](https://uw.pressbooks.pub/appliedmultivariatestatistics/chapter/nmds/) to understand the step-by-step process of this technique.\n",
    "\n",
    "> **Important to note:** Bray-Curtis distances are calculated from the OTU matrix, which can be accessed using `dataset$otu_table`. Keep in mind that if this matrix is modified (e.g., by creating a subset or grouping by a specific taxonomic level), the distance between samples will change, along with the visualizations of beta diversity."
   ]
  },
  {
   "cell_type": "code",
   "execution_count": null,
   "metadata": {},
   "outputs": [],
   "source": [
    "set.seed(1)\n",
    "prueba = clone(dataset)\n",
    "filo = prueba$merge_taxa(taxa = \"Phylum\") # Group by Phylum\n",
    "filo$cal_betadiv() # Calculate beta diversity\n",
    "\n",
    "t1$plot_ordination(plot_color = \"life_stage\",plot_shape = \"life_stage\", plot_type = c(\"point\", \"ellipse\"))"
   ]
  },
  {
   "cell_type": "markdown",
   "metadata": {},
   "source": [
    "You will obtain the following result:\n",
    "\n",
    "![barplot](./Images/beta2.png)"
   ]
  }
 ],
 "metadata": {
  "language_info": {
   "name": "python"
  }
 },
 "nbformat": 4,
 "nbformat_minor": 2
}
